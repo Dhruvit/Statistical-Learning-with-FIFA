{
  "nbformat": 4,
  "nbformat_minor": 0,
  "metadata": {
    "colab": {
      "name": "Statistical Learning with FIFA.ipynb",
      "provenance": [],
      "collapsed_sections": []
    },
    "kernelspec": {
      "name": "python3",
      "display_name": "Python 3"
    }
  },
  "cells": [
    {
      "cell_type": "markdown",
      "metadata": {
        "id": "Nr5QNdK4YO4M",
        "colab_type": "text"
      },
      "source": [
        "A look at the data\n",
        "The data come in readily separated files by attribute scores (e.g., Strength) and positional scores (i.e., how good they are as a striker), as well as other information like country of origin and which club they belong to. For our purposes, we are only concerned with their wage attributes, and positional scores. There is an ID variable by which to merge them easily."
      ]
    },
    {
      "cell_type": "code",
      "metadata": {
        "id": "Z8omlc-7YUnx",
        "colab_type": "code",
        "colab": {
          "base_uri": "https://localhost:8080/",
          "height": 51
        },
        "outputId": "a4e4ed2b-efa9-4732-babe-59a2dd175874"
      },
      "source": [
        "import pandas as pd\n",
        "player_wage = pd.read_csv('PlayerPersonalData.csv', usecols = ['ID', 'Wage'])\n",
        "player_attributes = pd.read_csv('PlayerAttributeData.csv', index_col = 0)"
      ],
      "execution_count": 2,
      "outputs": [
        {
          "output_type": "stream",
          "text": [
            "/usr/local/lib/python3.6/dist-packages/IPython/core/interactiveshell.py:2718: DtypeWarning: Columns (11,24) have mixed types. Specify dtype option on import or set low_memory=False.\n",
            "  interactivity=interactivity, compiler=compiler, result=result)\n"
          ],
          "name": "stderr"
        }
      ]
    },
    {
      "cell_type": "code",
      "metadata": {
        "id": "aP3UPrPwYgli",
        "colab_type": "code",
        "colab": {
          "base_uri": "https://localhost:8080/",
          "height": 204
        },
        "outputId": "1f562f6a-a777-42fc-fa90-44ebf0a4722d"
      },
      "source": [
        "player_wage.head()"
      ],
      "execution_count": 3,
      "outputs": [
        {
          "output_type": "execute_result",
          "data": {
            "text/html": [
              "<div>\n",
              "<style scoped>\n",
              "    .dataframe tbody tr th:only-of-type {\n",
              "        vertical-align: middle;\n",
              "    }\n",
              "\n",
              "    .dataframe tbody tr th {\n",
              "        vertical-align: top;\n",
              "    }\n",
              "\n",
              "    .dataframe thead th {\n",
              "        text-align: right;\n",
              "    }\n",
              "</style>\n",
              "<table border=\"1\" class=\"dataframe\">\n",
              "  <thead>\n",
              "    <tr style=\"text-align: right;\">\n",
              "      <th></th>\n",
              "      <th>ID</th>\n",
              "      <th>Wage</th>\n",
              "    </tr>\n",
              "  </thead>\n",
              "  <tbody>\n",
              "    <tr>\n",
              "      <th>0</th>\n",
              "      <td>20801</td>\n",
              "      <td>€565K</td>\n",
              "    </tr>\n",
              "    <tr>\n",
              "      <th>1</th>\n",
              "      <td>158023</td>\n",
              "      <td>€565K</td>\n",
              "    </tr>\n",
              "    <tr>\n",
              "      <th>2</th>\n",
              "      <td>190871</td>\n",
              "      <td>€280K</td>\n",
              "    </tr>\n",
              "    <tr>\n",
              "      <th>3</th>\n",
              "      <td>176580</td>\n",
              "      <td>€510K</td>\n",
              "    </tr>\n",
              "    <tr>\n",
              "      <th>4</th>\n",
              "      <td>167495</td>\n",
              "      <td>€230K</td>\n",
              "    </tr>\n",
              "  </tbody>\n",
              "</table>\n",
              "</div>"
            ],
            "text/plain": [
              "       ID   Wage\n",
              "0   20801  €565K\n",
              "1  158023  €565K\n",
              "2  190871  €280K\n",
              "3  176580  €510K\n",
              "4  167495  €230K"
            ]
          },
          "metadata": {
            "tags": []
          },
          "execution_count": 3
        }
      ]
    },
    {
      "cell_type": "code",
      "metadata": {
        "id": "OBbmDuYOY5OS",
        "colab_type": "code",
        "colab": {
          "base_uri": "https://localhost:8080/",
          "height": 258
        },
        "outputId": "81fdbcaa-645d-4dc4-a14e-b495063d0ad8"
      },
      "source": [
        "player_attributes.head()"
      ],
      "execution_count": 4,
      "outputs": [
        {
          "output_type": "execute_result",
          "data": {
            "text/html": [
              "<div>\n",
              "<style scoped>\n",
              "    .dataframe tbody tr th:only-of-type {\n",
              "        vertical-align: middle;\n",
              "    }\n",
              "\n",
              "    .dataframe tbody tr th {\n",
              "        vertical-align: top;\n",
              "    }\n",
              "\n",
              "    .dataframe thead th {\n",
              "        text-align: right;\n",
              "    }\n",
              "</style>\n",
              "<table border=\"1\" class=\"dataframe\">\n",
              "  <thead>\n",
              "    <tr style=\"text-align: right;\">\n",
              "      <th></th>\n",
              "      <th>Acceleration</th>\n",
              "      <th>Aggression</th>\n",
              "      <th>Agility</th>\n",
              "      <th>Balance</th>\n",
              "      <th>Ball control</th>\n",
              "      <th>Composure</th>\n",
              "      <th>Crossing</th>\n",
              "      <th>Curve</th>\n",
              "      <th>Dribbling</th>\n",
              "      <th>Finishing</th>\n",
              "      <th>Free kick accuracy</th>\n",
              "      <th>GK diving</th>\n",
              "      <th>GK handling</th>\n",
              "      <th>GK kicking</th>\n",
              "      <th>GK positioning</th>\n",
              "      <th>GK reflexes</th>\n",
              "      <th>Heading accuracy</th>\n",
              "      <th>ID</th>\n",
              "      <th>Interceptions</th>\n",
              "      <th>Jumping</th>\n",
              "      <th>Long passing</th>\n",
              "      <th>Long shots</th>\n",
              "      <th>Marking</th>\n",
              "      <th>Penalties</th>\n",
              "      <th>Positioning</th>\n",
              "      <th>Reactions</th>\n",
              "      <th>Short passing</th>\n",
              "      <th>Shot power</th>\n",
              "      <th>Sliding tackle</th>\n",
              "      <th>Sprint speed</th>\n",
              "      <th>Stamina</th>\n",
              "      <th>Standing tackle</th>\n",
              "      <th>Strength</th>\n",
              "      <th>Vision</th>\n",
              "      <th>Volleys</th>\n",
              "    </tr>\n",
              "  </thead>\n",
              "  <tbody>\n",
              "    <tr>\n",
              "      <th>0</th>\n",
              "      <td>89</td>\n",
              "      <td>63</td>\n",
              "      <td>89</td>\n",
              "      <td>63</td>\n",
              "      <td>93</td>\n",
              "      <td>95</td>\n",
              "      <td>85</td>\n",
              "      <td>81</td>\n",
              "      <td>91</td>\n",
              "      <td>94</td>\n",
              "      <td>76</td>\n",
              "      <td>7</td>\n",
              "      <td>11</td>\n",
              "      <td>15</td>\n",
              "      <td>14</td>\n",
              "      <td>11</td>\n",
              "      <td>88</td>\n",
              "      <td>20801</td>\n",
              "      <td>29</td>\n",
              "      <td>95</td>\n",
              "      <td>77</td>\n",
              "      <td>92</td>\n",
              "      <td>22</td>\n",
              "      <td>85</td>\n",
              "      <td>95</td>\n",
              "      <td>96</td>\n",
              "      <td>83</td>\n",
              "      <td>94</td>\n",
              "      <td>23</td>\n",
              "      <td>91</td>\n",
              "      <td>92</td>\n",
              "      <td>31</td>\n",
              "      <td>80</td>\n",
              "      <td>85</td>\n",
              "      <td>88</td>\n",
              "    </tr>\n",
              "    <tr>\n",
              "      <th>1</th>\n",
              "      <td>92</td>\n",
              "      <td>48</td>\n",
              "      <td>90</td>\n",
              "      <td>95</td>\n",
              "      <td>95</td>\n",
              "      <td>96</td>\n",
              "      <td>77</td>\n",
              "      <td>89</td>\n",
              "      <td>97</td>\n",
              "      <td>95</td>\n",
              "      <td>90</td>\n",
              "      <td>6</td>\n",
              "      <td>11</td>\n",
              "      <td>15</td>\n",
              "      <td>14</td>\n",
              "      <td>8</td>\n",
              "      <td>71</td>\n",
              "      <td>158023</td>\n",
              "      <td>22</td>\n",
              "      <td>68</td>\n",
              "      <td>87</td>\n",
              "      <td>88</td>\n",
              "      <td>13</td>\n",
              "      <td>74</td>\n",
              "      <td>93</td>\n",
              "      <td>95</td>\n",
              "      <td>88</td>\n",
              "      <td>85</td>\n",
              "      <td>26</td>\n",
              "      <td>87</td>\n",
              "      <td>73</td>\n",
              "      <td>28</td>\n",
              "      <td>59</td>\n",
              "      <td>90</td>\n",
              "      <td>85</td>\n",
              "    </tr>\n",
              "    <tr>\n",
              "      <th>2</th>\n",
              "      <td>94</td>\n",
              "      <td>56</td>\n",
              "      <td>96</td>\n",
              "      <td>82</td>\n",
              "      <td>95</td>\n",
              "      <td>92</td>\n",
              "      <td>75</td>\n",
              "      <td>81</td>\n",
              "      <td>96</td>\n",
              "      <td>89</td>\n",
              "      <td>84</td>\n",
              "      <td>9</td>\n",
              "      <td>9</td>\n",
              "      <td>15</td>\n",
              "      <td>15</td>\n",
              "      <td>11</td>\n",
              "      <td>62</td>\n",
              "      <td>190871</td>\n",
              "      <td>36</td>\n",
              "      <td>61</td>\n",
              "      <td>75</td>\n",
              "      <td>77</td>\n",
              "      <td>21</td>\n",
              "      <td>81</td>\n",
              "      <td>90</td>\n",
              "      <td>88</td>\n",
              "      <td>81</td>\n",
              "      <td>80</td>\n",
              "      <td>33</td>\n",
              "      <td>90</td>\n",
              "      <td>78</td>\n",
              "      <td>24</td>\n",
              "      <td>53</td>\n",
              "      <td>80</td>\n",
              "      <td>83</td>\n",
              "    </tr>\n",
              "    <tr>\n",
              "      <th>3</th>\n",
              "      <td>88</td>\n",
              "      <td>78</td>\n",
              "      <td>86</td>\n",
              "      <td>60</td>\n",
              "      <td>91</td>\n",
              "      <td>83</td>\n",
              "      <td>77</td>\n",
              "      <td>86</td>\n",
              "      <td>86</td>\n",
              "      <td>94</td>\n",
              "      <td>84</td>\n",
              "      <td>27</td>\n",
              "      <td>25</td>\n",
              "      <td>31</td>\n",
              "      <td>33</td>\n",
              "      <td>37</td>\n",
              "      <td>77</td>\n",
              "      <td>176580</td>\n",
              "      <td>41</td>\n",
              "      <td>69</td>\n",
              "      <td>64</td>\n",
              "      <td>86</td>\n",
              "      <td>30</td>\n",
              "      <td>85</td>\n",
              "      <td>92</td>\n",
              "      <td>93</td>\n",
              "      <td>83</td>\n",
              "      <td>87</td>\n",
              "      <td>38</td>\n",
              "      <td>77</td>\n",
              "      <td>89</td>\n",
              "      <td>45</td>\n",
              "      <td>80</td>\n",
              "      <td>84</td>\n",
              "      <td>88</td>\n",
              "    </tr>\n",
              "    <tr>\n",
              "      <th>4</th>\n",
              "      <td>58</td>\n",
              "      <td>29</td>\n",
              "      <td>52</td>\n",
              "      <td>35</td>\n",
              "      <td>48</td>\n",
              "      <td>70</td>\n",
              "      <td>15</td>\n",
              "      <td>14</td>\n",
              "      <td>30</td>\n",
              "      <td>13</td>\n",
              "      <td>11</td>\n",
              "      <td>91</td>\n",
              "      <td>90</td>\n",
              "      <td>95</td>\n",
              "      <td>91</td>\n",
              "      <td>89</td>\n",
              "      <td>25</td>\n",
              "      <td>167495</td>\n",
              "      <td>30</td>\n",
              "      <td>78</td>\n",
              "      <td>59</td>\n",
              "      <td>16</td>\n",
              "      <td>10</td>\n",
              "      <td>47</td>\n",
              "      <td>12</td>\n",
              "      <td>85</td>\n",
              "      <td>55</td>\n",
              "      <td>25</td>\n",
              "      <td>11</td>\n",
              "      <td>61</td>\n",
              "      <td>44</td>\n",
              "      <td>10</td>\n",
              "      <td>83</td>\n",
              "      <td>70</td>\n",
              "      <td>11</td>\n",
              "    </tr>\n",
              "  </tbody>\n",
              "</table>\n",
              "</div>"
            ],
            "text/plain": [
              "  Acceleration Aggression Agility  ... Strength Vision Volleys\n",
              "0           89         63      89  ...       80     85      88\n",
              "1           92         48      90  ...       59     90      85\n",
              "2           94         56      96  ...       53     80      83\n",
              "3           88         78      86  ...       80     84      88\n",
              "4           58         29      52  ...       83     70      11\n",
              "\n",
              "[5 rows x 35 columns]"
            ]
          },
          "metadata": {
            "tags": []
          },
          "execution_count": 4
        }
      ]
    },
    {
      "cell_type": "code",
      "metadata": {
        "id": "gu3CMCzuZBaq",
        "colab_type": "code",
        "colab": {
          "base_uri": "https://localhost:8080/",
          "height": 204
        },
        "outputId": "12e88fd0-1cfa-4a1b-c0b9-64b184720c87"
      },
      "source": [
        "player_position = pd.read_csv('PlayerPlayingPositionData.csv', index_col=0)\n",
        "player_position.head()"
      ],
      "execution_count": 7,
      "outputs": [
        {
          "output_type": "execute_result",
          "data": {
            "text/html": [
              "<div>\n",
              "<style scoped>\n",
              "    .dataframe tbody tr th:only-of-type {\n",
              "        vertical-align: middle;\n",
              "    }\n",
              "\n",
              "    .dataframe tbody tr th {\n",
              "        vertical-align: top;\n",
              "    }\n",
              "\n",
              "    .dataframe thead th {\n",
              "        text-align: right;\n",
              "    }\n",
              "</style>\n",
              "<table border=\"1\" class=\"dataframe\">\n",
              "  <thead>\n",
              "    <tr style=\"text-align: right;\">\n",
              "      <th></th>\n",
              "      <th>CAM</th>\n",
              "      <th>CB</th>\n",
              "      <th>CDM</th>\n",
              "      <th>CF</th>\n",
              "      <th>CM</th>\n",
              "      <th>ID</th>\n",
              "      <th>LAM</th>\n",
              "      <th>LB</th>\n",
              "      <th>LCB</th>\n",
              "      <th>LCM</th>\n",
              "      <th>LDM</th>\n",
              "      <th>LF</th>\n",
              "      <th>LM</th>\n",
              "      <th>LS</th>\n",
              "      <th>LW</th>\n",
              "      <th>LWB</th>\n",
              "      <th>Preferred Positions</th>\n",
              "      <th>RAM</th>\n",
              "      <th>RB</th>\n",
              "      <th>RCB</th>\n",
              "      <th>RCM</th>\n",
              "      <th>RDM</th>\n",
              "      <th>RF</th>\n",
              "      <th>RM</th>\n",
              "      <th>RS</th>\n",
              "      <th>RW</th>\n",
              "      <th>RWB</th>\n",
              "      <th>ST</th>\n",
              "    </tr>\n",
              "  </thead>\n",
              "  <tbody>\n",
              "    <tr>\n",
              "      <th>0</th>\n",
              "      <td>89.0</td>\n",
              "      <td>53.0</td>\n",
              "      <td>62.0</td>\n",
              "      <td>91.0</td>\n",
              "      <td>82.0</td>\n",
              "      <td>20801</td>\n",
              "      <td>89.0</td>\n",
              "      <td>61.0</td>\n",
              "      <td>53.0</td>\n",
              "      <td>82.0</td>\n",
              "      <td>62.0</td>\n",
              "      <td>91.0</td>\n",
              "      <td>89.0</td>\n",
              "      <td>92.0</td>\n",
              "      <td>91.0</td>\n",
              "      <td>66.0</td>\n",
              "      <td>ST LW</td>\n",
              "      <td>89.0</td>\n",
              "      <td>61.0</td>\n",
              "      <td>53.0</td>\n",
              "      <td>82.0</td>\n",
              "      <td>62.0</td>\n",
              "      <td>91.0</td>\n",
              "      <td>89.0</td>\n",
              "      <td>92.0</td>\n",
              "      <td>91.0</td>\n",
              "      <td>66.0</td>\n",
              "      <td>92.0</td>\n",
              "    </tr>\n",
              "    <tr>\n",
              "      <th>1</th>\n",
              "      <td>92.0</td>\n",
              "      <td>45.0</td>\n",
              "      <td>59.0</td>\n",
              "      <td>92.0</td>\n",
              "      <td>84.0</td>\n",
              "      <td>158023</td>\n",
              "      <td>92.0</td>\n",
              "      <td>57.0</td>\n",
              "      <td>45.0</td>\n",
              "      <td>84.0</td>\n",
              "      <td>59.0</td>\n",
              "      <td>92.0</td>\n",
              "      <td>90.0</td>\n",
              "      <td>88.0</td>\n",
              "      <td>91.0</td>\n",
              "      <td>62.0</td>\n",
              "      <td>RW</td>\n",
              "      <td>92.0</td>\n",
              "      <td>57.0</td>\n",
              "      <td>45.0</td>\n",
              "      <td>84.0</td>\n",
              "      <td>59.0</td>\n",
              "      <td>92.0</td>\n",
              "      <td>90.0</td>\n",
              "      <td>88.0</td>\n",
              "      <td>91.0</td>\n",
              "      <td>62.0</td>\n",
              "      <td>88.0</td>\n",
              "    </tr>\n",
              "    <tr>\n",
              "      <th>2</th>\n",
              "      <td>88.0</td>\n",
              "      <td>46.0</td>\n",
              "      <td>59.0</td>\n",
              "      <td>88.0</td>\n",
              "      <td>79.0</td>\n",
              "      <td>190871</td>\n",
              "      <td>88.0</td>\n",
              "      <td>59.0</td>\n",
              "      <td>46.0</td>\n",
              "      <td>79.0</td>\n",
              "      <td>59.0</td>\n",
              "      <td>88.0</td>\n",
              "      <td>87.0</td>\n",
              "      <td>84.0</td>\n",
              "      <td>89.0</td>\n",
              "      <td>64.0</td>\n",
              "      <td>LW</td>\n",
              "      <td>88.0</td>\n",
              "      <td>59.0</td>\n",
              "      <td>46.0</td>\n",
              "      <td>79.0</td>\n",
              "      <td>59.0</td>\n",
              "      <td>88.0</td>\n",
              "      <td>87.0</td>\n",
              "      <td>84.0</td>\n",
              "      <td>89.0</td>\n",
              "      <td>64.0</td>\n",
              "      <td>84.0</td>\n",
              "    </tr>\n",
              "    <tr>\n",
              "      <th>3</th>\n",
              "      <td>87.0</td>\n",
              "      <td>58.0</td>\n",
              "      <td>65.0</td>\n",
              "      <td>88.0</td>\n",
              "      <td>80.0</td>\n",
              "      <td>176580</td>\n",
              "      <td>87.0</td>\n",
              "      <td>64.0</td>\n",
              "      <td>58.0</td>\n",
              "      <td>80.0</td>\n",
              "      <td>65.0</td>\n",
              "      <td>88.0</td>\n",
              "      <td>85.0</td>\n",
              "      <td>88.0</td>\n",
              "      <td>87.0</td>\n",
              "      <td>68.0</td>\n",
              "      <td>ST</td>\n",
              "      <td>87.0</td>\n",
              "      <td>64.0</td>\n",
              "      <td>58.0</td>\n",
              "      <td>80.0</td>\n",
              "      <td>65.0</td>\n",
              "      <td>88.0</td>\n",
              "      <td>85.0</td>\n",
              "      <td>88.0</td>\n",
              "      <td>87.0</td>\n",
              "      <td>68.0</td>\n",
              "      <td>88.0</td>\n",
              "    </tr>\n",
              "    <tr>\n",
              "      <th>4</th>\n",
              "      <td>NaN</td>\n",
              "      <td>NaN</td>\n",
              "      <td>NaN</td>\n",
              "      <td>NaN</td>\n",
              "      <td>NaN</td>\n",
              "      <td>167495</td>\n",
              "      <td>NaN</td>\n",
              "      <td>NaN</td>\n",
              "      <td>NaN</td>\n",
              "      <td>NaN</td>\n",
              "      <td>NaN</td>\n",
              "      <td>NaN</td>\n",
              "      <td>NaN</td>\n",
              "      <td>NaN</td>\n",
              "      <td>NaN</td>\n",
              "      <td>NaN</td>\n",
              "      <td>GK</td>\n",
              "      <td>NaN</td>\n",
              "      <td>NaN</td>\n",
              "      <td>NaN</td>\n",
              "      <td>NaN</td>\n",
              "      <td>NaN</td>\n",
              "      <td>NaN</td>\n",
              "      <td>NaN</td>\n",
              "      <td>NaN</td>\n",
              "      <td>NaN</td>\n",
              "      <td>NaN</td>\n",
              "      <td>NaN</td>\n",
              "    </tr>\n",
              "  </tbody>\n",
              "</table>\n",
              "</div>"
            ],
            "text/plain": [
              "    CAM    CB   CDM    CF    CM      ID  ...    RF    RM    RS    RW   RWB    ST\n",
              "0  89.0  53.0  62.0  91.0  82.0   20801  ...  91.0  89.0  92.0  91.0  66.0  92.0\n",
              "1  92.0  45.0  59.0  92.0  84.0  158023  ...  92.0  90.0  88.0  91.0  62.0  88.0\n",
              "2  88.0  46.0  59.0  88.0  79.0  190871  ...  88.0  87.0  84.0  89.0  64.0  84.0\n",
              "3  87.0  58.0  65.0  88.0  80.0  176580  ...  88.0  85.0  88.0  87.0  68.0  88.0\n",
              "4   NaN   NaN   NaN   NaN   NaN  167495  ...   NaN   NaN   NaN   NaN   NaN   NaN\n",
              "\n",
              "[5 rows x 28 columns]"
            ]
          },
          "metadata": {
            "tags": []
          },
          "execution_count": 7
        }
      ]
    },
    {
      "cell_type": "code",
      "metadata": {
        "id": "edWH6jowZZ6y",
        "colab_type": "code",
        "colab": {
          "base_uri": "https://localhost:8080/",
          "height": 241
        },
        "outputId": "57a62811-9120-4af0-ff22-8c774b3824ad"
      },
      "source": [
        "full_data = player_wage.merge(player_attributes, how='outer',left_on='ID',right_on='ID').merge(player_attributes, how='outer',left_on='ID',right_on='ID')\n",
        "full_data.head()"
      ],
      "execution_count": 9,
      "outputs": [
        {
          "output_type": "execute_result",
          "data": {
            "text/html": [
              "<div>\n",
              "<style scoped>\n",
              "    .dataframe tbody tr th:only-of-type {\n",
              "        vertical-align: middle;\n",
              "    }\n",
              "\n",
              "    .dataframe tbody tr th {\n",
              "        vertical-align: top;\n",
              "    }\n",
              "\n",
              "    .dataframe thead th {\n",
              "        text-align: right;\n",
              "    }\n",
              "</style>\n",
              "<table border=\"1\" class=\"dataframe\">\n",
              "  <thead>\n",
              "    <tr style=\"text-align: right;\">\n",
              "      <th></th>\n",
              "      <th>ID</th>\n",
              "      <th>Wage</th>\n",
              "      <th>Acceleration_x</th>\n",
              "      <th>Aggression_x</th>\n",
              "      <th>Agility_x</th>\n",
              "      <th>Balance_x</th>\n",
              "      <th>Ball control_x</th>\n",
              "      <th>Composure_x</th>\n",
              "      <th>Crossing_x</th>\n",
              "      <th>Curve_x</th>\n",
              "      <th>Dribbling_x</th>\n",
              "      <th>Finishing_x</th>\n",
              "      <th>Free kick accuracy_x</th>\n",
              "      <th>GK diving_x</th>\n",
              "      <th>GK handling_x</th>\n",
              "      <th>GK kicking_x</th>\n",
              "      <th>GK positioning_x</th>\n",
              "      <th>GK reflexes_x</th>\n",
              "      <th>Heading accuracy_x</th>\n",
              "      <th>Interceptions_x</th>\n",
              "      <th>Jumping_x</th>\n",
              "      <th>Long passing_x</th>\n",
              "      <th>Long shots_x</th>\n",
              "      <th>Marking_x</th>\n",
              "      <th>Penalties_x</th>\n",
              "      <th>Positioning_x</th>\n",
              "      <th>Reactions_x</th>\n",
              "      <th>Short passing_x</th>\n",
              "      <th>Shot power_x</th>\n",
              "      <th>Sliding tackle_x</th>\n",
              "      <th>Sprint speed_x</th>\n",
              "      <th>Stamina_x</th>\n",
              "      <th>Standing tackle_x</th>\n",
              "      <th>Strength_x</th>\n",
              "      <th>Vision_x</th>\n",
              "      <th>Volleys_x</th>\n",
              "      <th>Acceleration_y</th>\n",
              "      <th>Aggression_y</th>\n",
              "      <th>Agility_y</th>\n",
              "      <th>Balance_y</th>\n",
              "      <th>Ball control_y</th>\n",
              "      <th>Composure_y</th>\n",
              "      <th>Crossing_y</th>\n",
              "      <th>Curve_y</th>\n",
              "      <th>Dribbling_y</th>\n",
              "      <th>Finishing_y</th>\n",
              "      <th>Free kick accuracy_y</th>\n",
              "      <th>GK diving_y</th>\n",
              "      <th>GK handling_y</th>\n",
              "      <th>GK kicking_y</th>\n",
              "      <th>GK positioning_y</th>\n",
              "      <th>GK reflexes_y</th>\n",
              "      <th>Heading accuracy_y</th>\n",
              "      <th>Interceptions_y</th>\n",
              "      <th>Jumping_y</th>\n",
              "      <th>Long passing_y</th>\n",
              "      <th>Long shots_y</th>\n",
              "      <th>Marking_y</th>\n",
              "      <th>Penalties_y</th>\n",
              "      <th>Positioning_y</th>\n",
              "      <th>Reactions_y</th>\n",
              "      <th>Short passing_y</th>\n",
              "      <th>Shot power_y</th>\n",
              "      <th>Sliding tackle_y</th>\n",
              "      <th>Sprint speed_y</th>\n",
              "      <th>Stamina_y</th>\n",
              "      <th>Standing tackle_y</th>\n",
              "      <th>Strength_y</th>\n",
              "      <th>Vision_y</th>\n",
              "      <th>Volleys_y</th>\n",
              "    </tr>\n",
              "  </thead>\n",
              "  <tbody>\n",
              "    <tr>\n",
              "      <th>0</th>\n",
              "      <td>20801</td>\n",
              "      <td>€565K</td>\n",
              "      <td>89</td>\n",
              "      <td>63</td>\n",
              "      <td>89</td>\n",
              "      <td>63</td>\n",
              "      <td>93</td>\n",
              "      <td>95</td>\n",
              "      <td>85</td>\n",
              "      <td>81</td>\n",
              "      <td>91</td>\n",
              "      <td>94</td>\n",
              "      <td>76</td>\n",
              "      <td>7</td>\n",
              "      <td>11</td>\n",
              "      <td>15</td>\n",
              "      <td>14</td>\n",
              "      <td>11</td>\n",
              "      <td>88</td>\n",
              "      <td>29</td>\n",
              "      <td>95</td>\n",
              "      <td>77</td>\n",
              "      <td>92</td>\n",
              "      <td>22</td>\n",
              "      <td>85</td>\n",
              "      <td>95</td>\n",
              "      <td>96</td>\n",
              "      <td>83</td>\n",
              "      <td>94</td>\n",
              "      <td>23</td>\n",
              "      <td>91</td>\n",
              "      <td>92</td>\n",
              "      <td>31</td>\n",
              "      <td>80</td>\n",
              "      <td>85</td>\n",
              "      <td>88</td>\n",
              "      <td>89</td>\n",
              "      <td>63</td>\n",
              "      <td>89</td>\n",
              "      <td>63</td>\n",
              "      <td>93</td>\n",
              "      <td>95</td>\n",
              "      <td>85</td>\n",
              "      <td>81</td>\n",
              "      <td>91</td>\n",
              "      <td>94</td>\n",
              "      <td>76</td>\n",
              "      <td>7</td>\n",
              "      <td>11</td>\n",
              "      <td>15</td>\n",
              "      <td>14</td>\n",
              "      <td>11</td>\n",
              "      <td>88</td>\n",
              "      <td>29</td>\n",
              "      <td>95</td>\n",
              "      <td>77</td>\n",
              "      <td>92</td>\n",
              "      <td>22</td>\n",
              "      <td>85</td>\n",
              "      <td>95</td>\n",
              "      <td>96</td>\n",
              "      <td>83</td>\n",
              "      <td>94</td>\n",
              "      <td>23</td>\n",
              "      <td>91</td>\n",
              "      <td>92</td>\n",
              "      <td>31</td>\n",
              "      <td>80</td>\n",
              "      <td>85</td>\n",
              "      <td>88</td>\n",
              "    </tr>\n",
              "    <tr>\n",
              "      <th>1</th>\n",
              "      <td>158023</td>\n",
              "      <td>€565K</td>\n",
              "      <td>92</td>\n",
              "      <td>48</td>\n",
              "      <td>90</td>\n",
              "      <td>95</td>\n",
              "      <td>95</td>\n",
              "      <td>96</td>\n",
              "      <td>77</td>\n",
              "      <td>89</td>\n",
              "      <td>97</td>\n",
              "      <td>95</td>\n",
              "      <td>90</td>\n",
              "      <td>6</td>\n",
              "      <td>11</td>\n",
              "      <td>15</td>\n",
              "      <td>14</td>\n",
              "      <td>8</td>\n",
              "      <td>71</td>\n",
              "      <td>22</td>\n",
              "      <td>68</td>\n",
              "      <td>87</td>\n",
              "      <td>88</td>\n",
              "      <td>13</td>\n",
              "      <td>74</td>\n",
              "      <td>93</td>\n",
              "      <td>95</td>\n",
              "      <td>88</td>\n",
              "      <td>85</td>\n",
              "      <td>26</td>\n",
              "      <td>87</td>\n",
              "      <td>73</td>\n",
              "      <td>28</td>\n",
              "      <td>59</td>\n",
              "      <td>90</td>\n",
              "      <td>85</td>\n",
              "      <td>92</td>\n",
              "      <td>48</td>\n",
              "      <td>90</td>\n",
              "      <td>95</td>\n",
              "      <td>95</td>\n",
              "      <td>96</td>\n",
              "      <td>77</td>\n",
              "      <td>89</td>\n",
              "      <td>97</td>\n",
              "      <td>95</td>\n",
              "      <td>90</td>\n",
              "      <td>6</td>\n",
              "      <td>11</td>\n",
              "      <td>15</td>\n",
              "      <td>14</td>\n",
              "      <td>8</td>\n",
              "      <td>71</td>\n",
              "      <td>22</td>\n",
              "      <td>68</td>\n",
              "      <td>87</td>\n",
              "      <td>88</td>\n",
              "      <td>13</td>\n",
              "      <td>74</td>\n",
              "      <td>93</td>\n",
              "      <td>95</td>\n",
              "      <td>88</td>\n",
              "      <td>85</td>\n",
              "      <td>26</td>\n",
              "      <td>87</td>\n",
              "      <td>73</td>\n",
              "      <td>28</td>\n",
              "      <td>59</td>\n",
              "      <td>90</td>\n",
              "      <td>85</td>\n",
              "    </tr>\n",
              "    <tr>\n",
              "      <th>2</th>\n",
              "      <td>190871</td>\n",
              "      <td>€280K</td>\n",
              "      <td>94</td>\n",
              "      <td>56</td>\n",
              "      <td>96</td>\n",
              "      <td>82</td>\n",
              "      <td>95</td>\n",
              "      <td>92</td>\n",
              "      <td>75</td>\n",
              "      <td>81</td>\n",
              "      <td>96</td>\n",
              "      <td>89</td>\n",
              "      <td>84</td>\n",
              "      <td>9</td>\n",
              "      <td>9</td>\n",
              "      <td>15</td>\n",
              "      <td>15</td>\n",
              "      <td>11</td>\n",
              "      <td>62</td>\n",
              "      <td>36</td>\n",
              "      <td>61</td>\n",
              "      <td>75</td>\n",
              "      <td>77</td>\n",
              "      <td>21</td>\n",
              "      <td>81</td>\n",
              "      <td>90</td>\n",
              "      <td>88</td>\n",
              "      <td>81</td>\n",
              "      <td>80</td>\n",
              "      <td>33</td>\n",
              "      <td>90</td>\n",
              "      <td>78</td>\n",
              "      <td>24</td>\n",
              "      <td>53</td>\n",
              "      <td>80</td>\n",
              "      <td>83</td>\n",
              "      <td>94</td>\n",
              "      <td>56</td>\n",
              "      <td>96</td>\n",
              "      <td>82</td>\n",
              "      <td>95</td>\n",
              "      <td>92</td>\n",
              "      <td>75</td>\n",
              "      <td>81</td>\n",
              "      <td>96</td>\n",
              "      <td>89</td>\n",
              "      <td>84</td>\n",
              "      <td>9</td>\n",
              "      <td>9</td>\n",
              "      <td>15</td>\n",
              "      <td>15</td>\n",
              "      <td>11</td>\n",
              "      <td>62</td>\n",
              "      <td>36</td>\n",
              "      <td>61</td>\n",
              "      <td>75</td>\n",
              "      <td>77</td>\n",
              "      <td>21</td>\n",
              "      <td>81</td>\n",
              "      <td>90</td>\n",
              "      <td>88</td>\n",
              "      <td>81</td>\n",
              "      <td>80</td>\n",
              "      <td>33</td>\n",
              "      <td>90</td>\n",
              "      <td>78</td>\n",
              "      <td>24</td>\n",
              "      <td>53</td>\n",
              "      <td>80</td>\n",
              "      <td>83</td>\n",
              "    </tr>\n",
              "    <tr>\n",
              "      <th>3</th>\n",
              "      <td>176580</td>\n",
              "      <td>€510K</td>\n",
              "      <td>88</td>\n",
              "      <td>78</td>\n",
              "      <td>86</td>\n",
              "      <td>60</td>\n",
              "      <td>91</td>\n",
              "      <td>83</td>\n",
              "      <td>77</td>\n",
              "      <td>86</td>\n",
              "      <td>86</td>\n",
              "      <td>94</td>\n",
              "      <td>84</td>\n",
              "      <td>27</td>\n",
              "      <td>25</td>\n",
              "      <td>31</td>\n",
              "      <td>33</td>\n",
              "      <td>37</td>\n",
              "      <td>77</td>\n",
              "      <td>41</td>\n",
              "      <td>69</td>\n",
              "      <td>64</td>\n",
              "      <td>86</td>\n",
              "      <td>30</td>\n",
              "      <td>85</td>\n",
              "      <td>92</td>\n",
              "      <td>93</td>\n",
              "      <td>83</td>\n",
              "      <td>87</td>\n",
              "      <td>38</td>\n",
              "      <td>77</td>\n",
              "      <td>89</td>\n",
              "      <td>45</td>\n",
              "      <td>80</td>\n",
              "      <td>84</td>\n",
              "      <td>88</td>\n",
              "      <td>88</td>\n",
              "      <td>78</td>\n",
              "      <td>86</td>\n",
              "      <td>60</td>\n",
              "      <td>91</td>\n",
              "      <td>83</td>\n",
              "      <td>77</td>\n",
              "      <td>86</td>\n",
              "      <td>86</td>\n",
              "      <td>94</td>\n",
              "      <td>84</td>\n",
              "      <td>27</td>\n",
              "      <td>25</td>\n",
              "      <td>31</td>\n",
              "      <td>33</td>\n",
              "      <td>37</td>\n",
              "      <td>77</td>\n",
              "      <td>41</td>\n",
              "      <td>69</td>\n",
              "      <td>64</td>\n",
              "      <td>86</td>\n",
              "      <td>30</td>\n",
              "      <td>85</td>\n",
              "      <td>92</td>\n",
              "      <td>93</td>\n",
              "      <td>83</td>\n",
              "      <td>87</td>\n",
              "      <td>38</td>\n",
              "      <td>77</td>\n",
              "      <td>89</td>\n",
              "      <td>45</td>\n",
              "      <td>80</td>\n",
              "      <td>84</td>\n",
              "      <td>88</td>\n",
              "    </tr>\n",
              "    <tr>\n",
              "      <th>4</th>\n",
              "      <td>167495</td>\n",
              "      <td>€230K</td>\n",
              "      <td>58</td>\n",
              "      <td>29</td>\n",
              "      <td>52</td>\n",
              "      <td>35</td>\n",
              "      <td>48</td>\n",
              "      <td>70</td>\n",
              "      <td>15</td>\n",
              "      <td>14</td>\n",
              "      <td>30</td>\n",
              "      <td>13</td>\n",
              "      <td>11</td>\n",
              "      <td>91</td>\n",
              "      <td>90</td>\n",
              "      <td>95</td>\n",
              "      <td>91</td>\n",
              "      <td>89</td>\n",
              "      <td>25</td>\n",
              "      <td>30</td>\n",
              "      <td>78</td>\n",
              "      <td>59</td>\n",
              "      <td>16</td>\n",
              "      <td>10</td>\n",
              "      <td>47</td>\n",
              "      <td>12</td>\n",
              "      <td>85</td>\n",
              "      <td>55</td>\n",
              "      <td>25</td>\n",
              "      <td>11</td>\n",
              "      <td>61</td>\n",
              "      <td>44</td>\n",
              "      <td>10</td>\n",
              "      <td>83</td>\n",
              "      <td>70</td>\n",
              "      <td>11</td>\n",
              "      <td>58</td>\n",
              "      <td>29</td>\n",
              "      <td>52</td>\n",
              "      <td>35</td>\n",
              "      <td>48</td>\n",
              "      <td>70</td>\n",
              "      <td>15</td>\n",
              "      <td>14</td>\n",
              "      <td>30</td>\n",
              "      <td>13</td>\n",
              "      <td>11</td>\n",
              "      <td>91</td>\n",
              "      <td>90</td>\n",
              "      <td>95</td>\n",
              "      <td>91</td>\n",
              "      <td>89</td>\n",
              "      <td>25</td>\n",
              "      <td>30</td>\n",
              "      <td>78</td>\n",
              "      <td>59</td>\n",
              "      <td>16</td>\n",
              "      <td>10</td>\n",
              "      <td>47</td>\n",
              "      <td>12</td>\n",
              "      <td>85</td>\n",
              "      <td>55</td>\n",
              "      <td>25</td>\n",
              "      <td>11</td>\n",
              "      <td>61</td>\n",
              "      <td>44</td>\n",
              "      <td>10</td>\n",
              "      <td>83</td>\n",
              "      <td>70</td>\n",
              "      <td>11</td>\n",
              "    </tr>\n",
              "  </tbody>\n",
              "</table>\n",
              "</div>"
            ],
            "text/plain": [
              "       ID   Wage Acceleration_x  ... Strength_y Vision_y Volleys_y\n",
              "0   20801  €565K             89  ...         80       85        88\n",
              "1  158023  €565K             92  ...         59       90        85\n",
              "2  190871  €280K             94  ...         53       80        83\n",
              "3  176580  €510K             88  ...         80       84        88\n",
              "4  167495  €230K             58  ...         83       70        11\n",
              "\n",
              "[5 rows x 70 columns]"
            ]
          },
          "metadata": {
            "tags": []
          },
          "execution_count": 9
        }
      ]
    },
    {
      "cell_type": "code",
      "metadata": {
        "id": "-iQXVXN1aGwe",
        "colab_type": "code",
        "colab": {
          "base_uri": "https://localhost:8080/",
          "height": 297
        },
        "outputId": "35260259-15b0-41a2-98cd-369a3061ab51"
      },
      "source": [
        "full_data.describe()"
      ],
      "execution_count": 10,
      "outputs": [
        {
          "output_type": "execute_result",
          "data": {
            "text/html": [
              "<div>\n",
              "<style scoped>\n",
              "    .dataframe tbody tr th:only-of-type {\n",
              "        vertical-align: middle;\n",
              "    }\n",
              "\n",
              "    .dataframe tbody tr th {\n",
              "        vertical-align: top;\n",
              "    }\n",
              "\n",
              "    .dataframe thead th {\n",
              "        text-align: right;\n",
              "    }\n",
              "</style>\n",
              "<table border=\"1\" class=\"dataframe\">\n",
              "  <thead>\n",
              "    <tr style=\"text-align: right;\">\n",
              "      <th></th>\n",
              "      <th>ID</th>\n",
              "    </tr>\n",
              "  </thead>\n",
              "  <tbody>\n",
              "    <tr>\n",
              "      <th>count</th>\n",
              "      <td>18293.000000</td>\n",
              "    </tr>\n",
              "    <tr>\n",
              "      <th>mean</th>\n",
              "      <td>207683.540644</td>\n",
              "    </tr>\n",
              "    <tr>\n",
              "      <th>std</th>\n",
              "      <td>32036.717351</td>\n",
              "    </tr>\n",
              "    <tr>\n",
              "      <th>min</th>\n",
              "      <td>16.000000</td>\n",
              "    </tr>\n",
              "    <tr>\n",
              "      <th>25%</th>\n",
              "      <td>193064.000000</td>\n",
              "    </tr>\n",
              "    <tr>\n",
              "      <th>50%</th>\n",
              "      <td>213797.000000</td>\n",
              "    </tr>\n",
              "    <tr>\n",
              "      <th>75%</th>\n",
              "      <td>231206.000000</td>\n",
              "    </tr>\n",
              "    <tr>\n",
              "      <th>max</th>\n",
              "      <td>241219.000000</td>\n",
              "    </tr>\n",
              "  </tbody>\n",
              "</table>\n",
              "</div>"
            ],
            "text/plain": [
              "                  ID\n",
              "count   18293.000000\n",
              "mean   207683.540644\n",
              "std     32036.717351\n",
              "min        16.000000\n",
              "25%    193064.000000\n",
              "50%    213797.000000\n",
              "75%    231206.000000\n",
              "max    241219.000000"
            ]
          },
          "metadata": {
            "tags": []
          },
          "execution_count": 10
        }
      ]
    },
    {
      "cell_type": "code",
      "metadata": {
        "id": "9YJywImxaXPN",
        "colab_type": "code",
        "colab": {
          "base_uri": "https://localhost:8080/",
          "height": 34
        },
        "outputId": "217e647f-feeb-4ac9-e23d-5e995d88f789"
      },
      "source": [
        "full_data.shape"
      ],
      "execution_count": 12,
      "outputs": [
        {
          "output_type": "execute_result",
          "data": {
            "text/plain": [
              "(18293, 70)"
            ]
          },
          "metadata": {
            "tags": []
          },
          "execution_count": 12
        }
      ]
    },
    {
      "cell_type": "markdown",
      "metadata": {
        "id": "XKqge0R_af7t",
        "colab_type": "text"
      },
      "source": [
        "We notice there are some symbols that have to be removed as well as some missing values that must be dealt with. Additionally, upon inspection we find some scores above the maximum of 100."
      ]
    },
    {
      "cell_type": "markdown",
      "metadata": {
        "id": "SMAOzC-eakcU",
        "colab_type": "text"
      },
      "source": [
        "Cleaning the data\n",
        "Here we perform some simple cleaning tasks in order to further explore the data. First, we remove rows with empty values."
      ]
    },
    {
      "cell_type": "code",
      "metadata": {
        "id": "N5pA8nGZamcs",
        "colab_type": "code",
        "colab": {
          "base_uri": "https://localhost:8080/",
          "height": 34
        },
        "outputId": "dc56cbeb-78fc-41c1-dd74-65315e10b353"
      },
      "source": [
        "full_data.isnull().any(axis=1).sum() # number of rows with empty values"
      ],
      "execution_count": 17,
      "outputs": [
        {
          "output_type": "execute_result",
          "data": {
            "text/plain": [
              "0"
            ]
          },
          "metadata": {
            "tags": []
          },
          "execution_count": 17
        }
      ]
    },
    {
      "cell_type": "code",
      "metadata": {
        "id": "xgwa5J4VbdN3",
        "colab_type": "code",
        "colab": {}
      },
      "source": [
        "full_data = full_data.dropna(axis=0)"
      ],
      "execution_count": 0,
      "outputs": []
    },
    {
      "cell_type": "markdown",
      "metadata": {
        "id": "WZsra7H2bopG",
        "colab_type": "text"
      },
      "source": [
        "Second, we extract the numbers from out wage variable. We find they are all in thousands of euros, so there will not need to be any unit conversions."
      ]
    },
    {
      "cell_type": "code",
      "metadata": {
        "id": "eLex-SaJbqrt",
        "colab_type": "code",
        "colab": {
          "base_uri": "https://localhost:8080/",
          "height": 34
        },
        "outputId": "79bbc5cb-6253-48ec-c934-371df8b2f143"
      },
      "source": [
        "full_data.Wage.str.extract('([A-Za-z])')[0].unique()"
      ],
      "execution_count": 21,
      "outputs": [
        {
          "output_type": "execute_result",
          "data": {
            "text/plain": [
              "array(['K', nan], dtype=object)"
            ]
          },
          "metadata": {
            "tags": []
          },
          "execution_count": 21
        }
      ]
    },
    {
      "cell_type": "code",
      "metadata": {
        "id": "oby0sTlec5oY",
        "colab_type": "code",
        "colab": {}
      },
      "source": [
        "full_data.Wage = full_data.Wage.str.extract('(\\d+)')"
      ],
      "execution_count": 0,
      "outputs": []
    },
    {
      "cell_type": "code",
      "metadata": {
        "id": "5c9g_0R7c9bX",
        "colab_type": "code",
        "colab": {}
      },
      "source": [
        "full_data = full_data.drop(columns=['ID'])"
      ],
      "execution_count": 0,
      "outputs": []
    },
    {
      "cell_type": "markdown",
      "metadata": {
        "id": "1SyBPntfd1GQ",
        "colab_type": "text"
      },
      "source": [
        "Now, we extract only the leading numbers from each score as some are proceeded by +/-, possibly indicating a change in score since the last assessment. Then, we preserve only scores no greater than 100 as per the indicated cap."
      ]
    },
    {
      "cell_type": "code",
      "metadata": {
        "id": "0_WbzPoJd2_i",
        "colab_type": "code",
        "colab": {
          "base_uri": "https://localhost:8080/",
          "height": 34
        },
        "outputId": "051e37ed-a9f1-4dc7-b8d7-e85a29ea4c87"
      },
      "source": [
        "full_data = full_data.apply(lambda x : x.replace('(\\+|\\-\\d+$)', '' , regex = True), axis=1).apply(lambda x: x.astype(float))\n",
        "full_data = full_data[(full_data.drop(columns='Wage') <= 100).all(axis=1)]\n",
        "full_data.shape"
      ],
      "execution_count": 30,
      "outputs": [
        {
          "output_type": "execute_result",
          "data": {
            "text/plain": [
              "(17800, 69)"
            ]
          },
          "metadata": {
            "tags": []
          },
          "execution_count": 30
        }
      ]
    },
    {
      "cell_type": "markdown",
      "metadata": {
        "id": "zcsWKWeCfy2M",
        "colab_type": "text"
      },
      "source": [
        "Exploring with a few visuals\n",
        "As we are intending to find relationships between skills and wage, we can use a few charts to get an idea of how one effects the other. We will plot a few variables to get a rough idea."
      ]
    },
    {
      "cell_type": "code",
      "metadata": {
        "id": "kPyA0Jt5f1nE",
        "colab_type": "code",
        "colab": {}
      },
      "source": [
        "import seaborn as sns\n",
        "import matplotlib.pyplot as plt\n",
        "sns.set_style('darkgrid')"
      ],
      "execution_count": 0,
      "outputs": []
    },
    {
      "cell_type": "code",
      "metadata": {
        "id": "x3B0muiQgDhN",
        "colab_type": "code",
        "colab": {
          "base_uri": "https://localhost:8080/",
          "height": 369
        },
        "outputId": "6274afa3-ae9e-4b35-cc6e-5ed67c103495"
      },
      "source": [
        "plot_st = sns.lmplot('Shot power_x', 'Wage', data=full_data)\n",
        "plt.title('Shot power vs. Wage')\n",
        "plt.tight_layout()\n",
        "plt.show()"
      ],
      "execution_count": 35,
      "outputs": [
        {
          "output_type": "display_data",
          "data": {
            "image/png": "[encoded data removed]",
            "text/plain": [
              "<Figure size 360x360 with 1 Axes>"
            ]
          },
          "metadata": {
            "tags": []
          }
        }
      ]
    },
    {
      "cell_type": "code",
      "metadata": {
        "id": "FKvtazcchZuW",
        "colab_type": "code",
        "colab": {
          "base_uri": "https://localhost:8080/",
          "height": 369
        },
        "outputId": "21e3db2c-f0f2-4405-e10d-dad33c1f2cf2"
      },
      "source": [
        "plot_pt = sns.lmplot('Penalties_x', 'Wage', data=full_data)\n",
        "plt.title('Penalties vs. Wage')\n",
        "plt.tight_layout()\n",
        "plt.show()"
      ],
      "execution_count": 36,
      "outputs": [
        {
          "output_type": "display_data",
          "data": {
            "image/png": "[encoded data removed]",
            "text/plain": [
              "<Figure size 360x360 with 1 Axes>"
            ]
          },
          "metadata": {
            "tags": []
          }
        }
      ]
    },
    {
      "cell_type": "code",
      "metadata": {
        "id": "YMGuwDKNfMHa",
        "colab_type": "code",
        "colab": {
          "base_uri": "https://localhost:8080/",
          "height": 369
        },
        "outputId": "5647f63f-8ccb-4f32-a56d-56b156950bde"
      },
      "source": [
        "plot_ls = sns.lmplot('Long shots_x', 'Wage', data=full_data)\n",
        "plt.title('Long shot vs. Wage')\n",
        "plt.tight_layout()\n",
        "plt.show()"
      ],
      "execution_count": 37,
      "outputs": [
        {
          "output_type": "display_data",
          "data": {
            "image/png": "[encoded data removed]",
            "text/plain": [
              "<Figure size 360x360 with 1 Axes>"
            ]
          },
          "metadata": {
            "tags": []
          }
        }
      ]
    },
    {
      "cell_type": "markdown",
      "metadata": {
        "id": "mnbt2GsKxkhR",
        "colab_type": "text"
      },
      "source": [
        "There appears to be a slight positive correlation between each skill and wage, but nothing very convincing."
      ]
    },
    {
      "cell_type": "markdown",
      "metadata": {
        "id": "ZrpmxcgRxmdZ",
        "colab_type": "text"
      },
      "source": [
        "**Trying linear regression**"
      ]
    },
    {
      "cell_type": "code",
      "metadata": {
        "id": "gteDILwaxpoR",
        "colab_type": "code",
        "colab": {}
      },
      "source": [
        "from sklearn.linear_model import LinearRegression"
      ],
      "execution_count": 0,
      "outputs": []
    },
    {
      "cell_type": "code",
      "metadata": {
        "id": "YqiH6UzGyGny",
        "colab_type": "code",
        "colab": {
          "base_uri": "https://localhost:8080/",
          "height": 34
        },
        "outputId": "344f66a8-80c5-40c0-ff94-0b0319eb76bc"
      },
      "source": [
        "model_linear = LinearRegression()\n",
        "predictors = full_data.drop(columns='Wage')\n",
        "response = full_data.Wage\n",
        "model_linear.fit(predictors, response)\n",
        "\n",
        "model_linear.score(predictors, response)"
      ],
      "execution_count": 44,
      "outputs": [
        {
          "output_type": "execute_result",
          "data": {
            "text/plain": [
              "0.3084040776176794"
            ]
          },
          "metadata": {
            "tags": []
          },
          "execution_count": 44
        }
      ]
    },
    {
      "cell_type": "markdown",
      "metadata": {
        "id": "I6IYvncg0gqC",
        "colab_type": "text"
      },
      "source": [
        "Reinforcing what we saw in our graphs, we find a small R-squared value–less than 32% of the variance in Wage is explained by the variance in the skill and positional scores. Linear regression methods won’t be very useful. Given the high-dimensionality of the data, we won’t pursue polynomial regression methods, either, due to the computational cost associated with them. We could pursue more sophiscated methods like random forest or gradient boosting regression, but they will be saved for another data set."
      ]
    },
    {
      "cell_type": "code",
      "metadata": {
        "id": "DfF09r4ZzREs",
        "colab_type": "code",
        "colab": {
          "base_uri": "https://localhost:8080/",
          "height": 51
        },
        "outputId": "34908cb1-e849-487d-c01c-f055033ec81f"
      },
      "source": [
        "model_linear.predict(predictors)"
      ],
      "execution_count": 45,
      "outputs": [
        {
          "output_type": "execute_result",
          "data": {
            "text/plain": [
              "array([ 63.11079013,  61.89109109,  52.86676746, ...,  -9.46811901,\n",
              "       -12.52470211, -26.18483348])"
            ]
          },
          "metadata": {
            "tags": []
          },
          "execution_count": 45
        }
      ]
    },
    {
      "cell_type": "markdown",
      "metadata": {
        "id": "EMOB9cyT0apy",
        "colab_type": "text"
      },
      "source": [
        "**Classification based on the mean wage**"
      ]
    },
    {
      "cell_type": "markdown",
      "metadata": {
        "id": "YO_u0d8o0dnb",
        "colab_type": "text"
      },
      "source": [
        "Instead of trying to predict wage accurately, perhaps we would have an easier time classifying whether or not a player’s income falls above or below the mean. We will compare 5 classifiers–k-nearest neighbors, logistic regression, linear discriminant analysis, quadratic discriminant analysis, and random forest–via cross-validation. We will then choose the best performing model to predict on a new test set."
      ]
    },
    {
      "cell_type": "code",
      "metadata": {
        "id": "UUkeZTDp0mby",
        "colab_type": "code",
        "colab": {}
      },
      "source": [
        "from sklearn.model_selection import cross_val_predict\n",
        "from sklearn.metrics import classification_report\n",
        "from sklearn.linear_model import LogisticRegression as LR\n",
        "from sklearn.discriminant_analysis import LinearDiscriminantAnalysis as LDA \n",
        "from sklearn.discriminant_analysis import QuadraticDiscriminantAnalysis as QDA \n",
        "from sklearn.ensemble import RandomForestClassifier as RF \n",
        "from sklearn.neighbors import KNeighborsClassifier as KNN \n",
        "from sklearn.model_selection import train_test_split\n",
        "import numpy as np\n",
        "\n",
        "np.random.seed(333)"
      ],
      "execution_count": 0,
      "outputs": []
    },
    {
      "cell_type": "markdown",
      "metadata": {
        "id": "I2zBLQtz1_zs",
        "colab_type": "text"
      },
      "source": [
        "We create the new response variable and assemble our training and testing sets from the data using a 70/30 split:"
      ]
    },
    {
      "cell_type": "code",
      "metadata": {
        "id": "0vXqSZDw2B5E",
        "colab_type": "code",
        "colab": {
          "base_uri": "https://localhost:8080/",
          "height": 34
        },
        "outputId": "c81030b9-17af-4810-bb43-0b3c2494c6e6"
      },
      "source": [
        "response = [0 if x < np.mean(full_data.Wage) else 1 for x in full_data.Wage]\n",
        "sum(response)/len(response)"
      ],
      "execution_count": 51,
      "outputs": [
        {
          "output_type": "execute_result",
          "data": {
            "text/plain": [
              "0.26348314606741574"
            ]
          },
          "metadata": {
            "tags": []
          },
          "execution_count": 51
        }
      ]
    },
    {
      "cell_type": "code",
      "metadata": {
        "id": "IpxGZHBp2es3",
        "colab_type": "code",
        "colab": {}
      },
      "source": [
        "train_predictors, test_predictors, train_response, test_response = train_test_split(full_data.drop(columns='Wage'), response, train_size = 0.7)"
      ],
      "execution_count": 0,
      "outputs": []
    },
    {
      "cell_type": "markdown",
      "metadata": {
        "id": "Q82u8nSY3fpM",
        "colab_type": "text"
      },
      "source": [
        "We see that less than 27% of players make more than the mean wage.\n",
        "\n",
        "Now, we fit each model, 10-fold cross-validate them on the training data, and compare their performance with a heatmap. The metrics we will use are precision and recall, as the proportion of “positive” cases–wages above the mean–is much smaller than that of “negative” cases."
      ]
    },
    {
      "cell_type": "code",
      "metadata": {
        "id": "OsH6OHRY3ins",
        "colab_type": "code",
        "colab": {
          "base_uri": "https://localhost:8080/",
          "height": 357
        },
        "outputId": "94ddd1b0-9438-4d7c-b621-e4a90c615270"
      },
      "source": [
        "# logit\n",
        "model_lr = LR(solver='liblinear', max_iter = 10000)\n",
        "cross_val_lr_pred = cross_val_predict(model_lr, train_predictors, train_response, cv=10)\n",
        "rep_lr = classification_report(train_response, cross_val_lr_pred, output_dict=True)\n",
        "\n",
        "# lda\n",
        "model_lda = LDA()\n",
        "cross_val_lda_pred = cross_val_predict(model_lda, train_predictors, train_response, cv = 10)\n",
        "rep_lda = classification_report(train_response, cross_val_lda_pred, output_dict=True)\n",
        "\n",
        "# qda\n",
        "model_qda = QDA()\n",
        "cross_val_qda_pred = cross_val_predict(model_qda, train_predictors, train_response, cv = 10)\n",
        "rep_qda = classification_report(train_response, cross_val_qda_pred, output_dict=True)\n",
        "\n",
        "# knn\n",
        "model_knn = KNN(n_neighbors = 13)\n",
        "cross_val_knn_pred = cross_val_predict(model_knn, train_predictors, train_response, cv = 10)\n",
        "rep_knn = classification_report(train_response, cross_val_knn_pred, output_dict=True)\n",
        "\n",
        "# random forest\n",
        "model_rf = RF(n_estimators = 500)\n",
        "cross_val_rf_pred = cross_val_predict(model_rf, train_predictors, train_response, cv = 10)\n",
        "rep_rf = classification_report(train_response, cross_val_rf_pred, output_dict=True)"
      ],
      "execution_count": 58,
      "outputs": [
        {
          "output_type": "stream",
          "text": [
            "/usr/local/lib/python3.6/dist-packages/sklearn/discriminant_analysis.py:691: UserWarning: Variables are collinear\n",
            "  warnings.warn(\"Variables are collinear\")\n",
            "/usr/local/lib/python3.6/dist-packages/sklearn/discriminant_analysis.py:691: UserWarning: Variables are collinear\n",
            "  warnings.warn(\"Variables are collinear\")\n",
            "/usr/local/lib/python3.6/dist-packages/sklearn/discriminant_analysis.py:691: UserWarning: Variables are collinear\n",
            "  warnings.warn(\"Variables are collinear\")\n",
            "/usr/local/lib/python3.6/dist-packages/sklearn/discriminant_analysis.py:691: UserWarning: Variables are collinear\n",
            "  warnings.warn(\"Variables are collinear\")\n",
            "/usr/local/lib/python3.6/dist-packages/sklearn/discriminant_analysis.py:691: UserWarning: Variables are collinear\n",
            "  warnings.warn(\"Variables are collinear\")\n",
            "/usr/local/lib/python3.6/dist-packages/sklearn/discriminant_analysis.py:691: UserWarning: Variables are collinear\n",
            "  warnings.warn(\"Variables are collinear\")\n",
            "/usr/local/lib/python3.6/dist-packages/sklearn/discriminant_analysis.py:691: UserWarning: Variables are collinear\n",
            "  warnings.warn(\"Variables are collinear\")\n",
            "/usr/local/lib/python3.6/dist-packages/sklearn/discriminant_analysis.py:691: UserWarning: Variables are collinear\n",
            "  warnings.warn(\"Variables are collinear\")\n",
            "/usr/local/lib/python3.6/dist-packages/sklearn/discriminant_analysis.py:691: UserWarning: Variables are collinear\n",
            "  warnings.warn(\"Variables are collinear\")\n",
            "/usr/local/lib/python3.6/dist-packages/sklearn/discriminant_analysis.py:691: UserWarning: Variables are collinear\n",
            "  warnings.warn(\"Variables are collinear\")\n"
          ],
          "name": "stderr"
        }
      ]
    },
    {
      "cell_type": "code",
      "metadata": {
        "id": "oTwV0KUW8sfw",
        "colab_type": "code",
        "colab": {
          "base_uri": "https://localhost:8080/",
          "height": 298
        },
        "outputId": "57a9069c-4a11-474e-9b10-2521c58e4736"
      },
      "source": [
        "reports = [x['macro avg'] for x in [rep_knn, rep_lr, rep_lda, rep_qda, rep_rf]]\n",
        "models = ['KNN', 'Logit', 'LDA', 'QDA', 'R.Forest']\n",
        "reports_df = pd.DataFrame.from_dict(dict(zip(models, reports)), orient='index').drop(columns = 'support')\n",
        "\n",
        "sns.heatmap(reports_df, vmin=0, vmax=1, annot=True).set_title('Model performance during cross-validation')"
      ],
      "execution_count": 60,
      "outputs": [
        {
          "output_type": "execute_result",
          "data": {
            "text/plain": [
              "Text(0.5, 1, 'Model performance during cross-validation')"
            ]
          },
          "metadata": {
            "tags": []
          },
          "execution_count": 60
        },
        {
          "output_type": "display_data",
          "data": {
            "image/png": "[encoded data removed]",
            "text/plain": [
              "<Figure size 432x288 with 2 Axes>"
            ]
          },
          "metadata": {
            "tags": []
          }
        }
      ]
    },
    {
      "cell_type": "markdown",
      "metadata": {
        "id": "_z7kCXjm-cHB",
        "colab_type": "text"
      },
      "source": [
        "Note: warnings for collinearity were suppressed during LDA and QDA cross-validation. Intuitively, it makes sense that athletic skills may be collinear.\n",
        "\n",
        "We see that random forest classification produced the best f1-score, and also performed the best in both precision and recall. This is the model we will select for predicting on our test set. The disparate performance between LDA and QDA suggests that the decision boundary is more linear than quadratic–sensible, as we divided the class at the mean."
      ]
    },
    {
      "cell_type": "markdown",
      "metadata": {
        "id": "WSiW8hDu-lC-",
        "colab_type": "text"
      },
      "source": [
        "**Evaluating our model on the test data**"
      ]
    },
    {
      "cell_type": "code",
      "metadata": {
        "id": "zM20GknG-eW3",
        "colab_type": "code",
        "colab": {
          "base_uri": "https://localhost:8080/",
          "height": 153
        },
        "outputId": "9dc65ce8-1583-4918-89be-00c0456d42aa"
      },
      "source": [
        "from sklearn.metrics import precision_recall_curve\n",
        "from sklearn.metrics import auc\n",
        "\n",
        "model_rf = RF(n_estimators=500)\n",
        "model_rf.fit(train_predictors, train_response)"
      ],
      "execution_count": 61,
      "outputs": [
        {
          "output_type": "execute_result",
          "data": {
            "text/plain": [
              "RandomForestClassifier(bootstrap=True, ccp_alpha=0.0, class_weight=None,\n",
              "                       criterion='gini', max_depth=None, max_features='auto',\n",
              "                       max_leaf_nodes=None, max_samples=None,\n",
              "                       min_impurity_decrease=0.0, min_impurity_split=None,\n",
              "                       min_samples_leaf=1, min_samples_split=2,\n",
              "                       min_weight_fraction_leaf=0.0, n_estimators=500,\n",
              "                       n_jobs=None, oob_score=False, random_state=None,\n",
              "                       verbose=0, warm_start=False)"
            ]
          },
          "metadata": {
            "tags": []
          },
          "execution_count": 61
        }
      ]
    },
    {
      "cell_type": "code",
      "metadata": {
        "id": "_UwJvAZI_hQC",
        "colab_type": "code",
        "colab": {}
      },
      "source": [
        "probs_rf = model_rf.predict_proba(test_predictors)[:,1]\n",
        "precision_rf, recall_rf, threshold_rf = precision_recall_curve(test_response, probs_rf)\n",
        "pr_rf = pd.DataFrame.from_dict({'recall':recall_rf, 'precision':precision_rf}, orient='columns')"
      ],
      "execution_count": 0,
      "outputs": []
    },
    {
      "cell_type": "code",
      "metadata": {
        "id": "DYQ0FmtKAVr6",
        "colab_type": "code",
        "colab": {
          "base_uri": "https://localhost:8080/",
          "height": 295
        },
        "outputId": "0cdb5d7c-5678-4bce-d156-7ebcd307f210"
      },
      "source": [
        "import matplotlib.pyplot as plt\n",
        "auc_rf = auc(recall_rf, precision_rf)\n",
        "line_rf = sns.lineplot('recall', 'precision', data = pr_rf, legend=False).set_title('Random forest performance on test set')\n",
        "plt.text(x=0.4, y=0.6, s=str('AUC = %.3f' % auc_rf))\n",
        "plt.show()"
      ],
      "execution_count": 64,
      "outputs": [
        {
          "output_type": "display_data",
          "data": {
            "image/png": "[encoded data removed]",
            "text/plain": [
              "<Figure size 432x288 with 1 Axes>"
            ]
          },
          "metadata": {
            "tags": []
          }
        }
      ]
    },
    {
      "cell_type": "markdown",
      "metadata": {
        "id": "aAHniR1kBXPi",
        "colab_type": "text"
      },
      "source": [
        "We see that our model does alright with an AUC of ~0.817, and is certainly better than guessing. However, there is still plenty of room for improvement.\n",
        "\n",
        "**Summary**\n",
        "\n",
        "There does appear to be a positive relationship between a players skill and how much they earn, though it doesn’t seem to be linear in nature. Even a simple classification of above or below the mean wage using only skills was not absolutely conclusive given a random forest precision-recall AUC of just under 0.82. This suggests that they contribute to FIFA players’ compensation but that there are other factors at play. Perhaps the best way to proceed would be to include some of the other features from the data set as necessary, or even pursing different regression or classification models."
      ]
    },
    {
      "cell_type": "code",
      "metadata": {
        "id": "ejrgM0AtBcyw",
        "colab_type": "code",
        "colab": {}
      },
      "source": [
        ""
      ],
      "execution_count": 0,
      "outputs": []
    }
  ]
}